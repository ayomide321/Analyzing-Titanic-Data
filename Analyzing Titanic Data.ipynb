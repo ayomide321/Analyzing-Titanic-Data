{
 "cells": [
  {
   "cell_type": "markdown",
   "id": "890107c7",
   "metadata": {},
   "source": [
    "**<font color=\"#D81E5B \">Name</font>:** Ayomide Omolewa <br>\n",
    "**<font color=\"#D81E5B \">Assignment Description</font>:** Random Forest Classification on Titanic Dataset <br>\n",
    "**<font color=\"#D81E5B \">Completion Date</font>:** 12/01/2021 <br>"
   ]
  },
  {
   "cell_type": "markdown",
   "id": "74b50f32",
   "metadata": {},
   "source": [
    "Remove warnings"
   ]
  },
  {
   "cell_type": "code",
   "execution_count": 1,
   "id": "0dd14ac3",
   "metadata": {},
   "outputs": [],
   "source": [
    "import warnings; warnings.simplefilter('ignore')"
   ]
  },
  {
   "cell_type": "markdown",
   "id": "f59bd691",
   "metadata": {},
   "source": [
    "### <font color=\"#F0544F\">Intro</font>\n",
    "    \n",
    "For my final project, I will be using the titanic dataset found on <a href=\"https://www.kaggle.com/c/titanic/data?select=train.csv\">kaggle</a>\n",
    "    \n",
    "My goal is to predict the **Survived** class based on the other features. This data is already split into train/test so we can just read these two values seperately"
   ]
  },
  {
   "cell_type": "markdown",
   "id": "1ae32440",
   "metadata": {},
   "source": [
    "Import necessary libraries"
   ]
  },
  {
   "cell_type": "code",
   "execution_count": 2,
   "id": "5e3d7074",
   "metadata": {},
   "outputs": [],
   "source": [
    "import pandas as pd\n",
    "import numpy as np\n",
    "import matplotlib.pyplot as plt\n",
    "import seaborn as sns\n",
    "%matplotlib inline"
   ]
  },
  {
   "cell_type": "markdown",
   "id": "9c6a476c",
   "metadata": {},
   "source": [
    "Read train and test data"
   ]
  },
  {
   "cell_type": "code",
   "execution_count": 3,
   "id": "60fd9ff1",
   "metadata": {},
   "outputs": [],
   "source": [
    "train = pd.read_csv('train.csv')\n",
    "test = pd.read_csv('test.csv')"
   ]
  },
  {
   "cell_type": "markdown",
   "id": "0abe7730",
   "metadata": {},
   "source": [
    "Analyze raw data"
   ]
  },
  {
   "cell_type": "code",
   "execution_count": 4,
   "id": "2ad1fb76",
   "metadata": {},
   "outputs": [
    {
     "name": "stdout",
     "output_type": "stream",
     "text": [
      "<class 'pandas.core.frame.DataFrame'>\n",
      "RangeIndex: 891 entries, 0 to 890\n",
      "Data columns (total 12 columns):\n",
      " #   Column       Non-Null Count  Dtype  \n",
      "---  ------       --------------  -----  \n",
      " 0   PassengerId  891 non-null    int64  \n",
      " 1   Survived     891 non-null    int64  \n",
      " 2   Pclass       891 non-null    int64  \n",
      " 3   Name         891 non-null    object \n",
      " 4   Sex          891 non-null    object \n",
      " 5   Age          714 non-null    float64\n",
      " 6   SibSp        891 non-null    int64  \n",
      " 7   Parch        891 non-null    int64  \n",
      " 8   Ticket       891 non-null    object \n",
      " 9   Fare         891 non-null    float64\n",
      " 10  Cabin        204 non-null    object \n",
      " 11  Embarked     889 non-null    object \n",
      "dtypes: float64(2), int64(5), object(5)\n",
      "memory usage: 83.7+ KB\n"
     ]
    }
   ],
   "source": [
    "train.info()"
   ]
  },
  {
   "cell_type": "code",
   "execution_count": 5,
   "id": "78096e4f",
   "metadata": {},
   "outputs": [
    {
     "data": {
      "text/html": [
       "<div>\n",
       "<style scoped>\n",
       "    .dataframe tbody tr th:only-of-type {\n",
       "        vertical-align: middle;\n",
       "    }\n",
       "\n",
       "    .dataframe tbody tr th {\n",
       "        vertical-align: top;\n",
       "    }\n",
       "\n",
       "    .dataframe thead th {\n",
       "        text-align: right;\n",
       "    }\n",
       "</style>\n",
       "<table border=\"1\" class=\"dataframe\">\n",
       "  <thead>\n",
       "    <tr style=\"text-align: right;\">\n",
       "      <th></th>\n",
       "      <th>PassengerId</th>\n",
       "      <th>Survived</th>\n",
       "      <th>Pclass</th>\n",
       "      <th>Name</th>\n",
       "      <th>Sex</th>\n",
       "      <th>Age</th>\n",
       "      <th>SibSp</th>\n",
       "      <th>Parch</th>\n",
       "      <th>Ticket</th>\n",
       "      <th>Fare</th>\n",
       "      <th>Cabin</th>\n",
       "      <th>Embarked</th>\n",
       "    </tr>\n",
       "  </thead>\n",
       "  <tbody>\n",
       "    <tr>\n",
       "      <th>0</th>\n",
       "      <td>1</td>\n",
       "      <td>0</td>\n",
       "      <td>3</td>\n",
       "      <td>Braund, Mr. Owen Harris</td>\n",
       "      <td>male</td>\n",
       "      <td>22.0</td>\n",
       "      <td>1</td>\n",
       "      <td>0</td>\n",
       "      <td>A/5 21171</td>\n",
       "      <td>7.2500</td>\n",
       "      <td>NaN</td>\n",
       "      <td>S</td>\n",
       "    </tr>\n",
       "    <tr>\n",
       "      <th>1</th>\n",
       "      <td>2</td>\n",
       "      <td>1</td>\n",
       "      <td>1</td>\n",
       "      <td>Cumings, Mrs. John Bradley (Florence Briggs Th...</td>\n",
       "      <td>female</td>\n",
       "      <td>38.0</td>\n",
       "      <td>1</td>\n",
       "      <td>0</td>\n",
       "      <td>PC 17599</td>\n",
       "      <td>71.2833</td>\n",
       "      <td>C85</td>\n",
       "      <td>C</td>\n",
       "    </tr>\n",
       "    <tr>\n",
       "      <th>2</th>\n",
       "      <td>3</td>\n",
       "      <td>1</td>\n",
       "      <td>3</td>\n",
       "      <td>Heikkinen, Miss. Laina</td>\n",
       "      <td>female</td>\n",
       "      <td>26.0</td>\n",
       "      <td>0</td>\n",
       "      <td>0</td>\n",
       "      <td>STON/O2. 3101282</td>\n",
       "      <td>7.9250</td>\n",
       "      <td>NaN</td>\n",
       "      <td>S</td>\n",
       "    </tr>\n",
       "    <tr>\n",
       "      <th>3</th>\n",
       "      <td>4</td>\n",
       "      <td>1</td>\n",
       "      <td>1</td>\n",
       "      <td>Futrelle, Mrs. Jacques Heath (Lily May Peel)</td>\n",
       "      <td>female</td>\n",
       "      <td>35.0</td>\n",
       "      <td>1</td>\n",
       "      <td>0</td>\n",
       "      <td>113803</td>\n",
       "      <td>53.1000</td>\n",
       "      <td>C123</td>\n",
       "      <td>S</td>\n",
       "    </tr>\n",
       "    <tr>\n",
       "      <th>4</th>\n",
       "      <td>5</td>\n",
       "      <td>0</td>\n",
       "      <td>3</td>\n",
       "      <td>Allen, Mr. William Henry</td>\n",
       "      <td>male</td>\n",
       "      <td>35.0</td>\n",
       "      <td>0</td>\n",
       "      <td>0</td>\n",
       "      <td>373450</td>\n",
       "      <td>8.0500</td>\n",
       "      <td>NaN</td>\n",
       "      <td>S</td>\n",
       "    </tr>\n",
       "  </tbody>\n",
       "</table>\n",
       "</div>"
      ],
      "text/plain": [
       "   PassengerId  Survived  Pclass  \\\n",
       "0            1         0       3   \n",
       "1            2         1       1   \n",
       "2            3         1       3   \n",
       "3            4         1       1   \n",
       "4            5         0       3   \n",
       "\n",
       "                                                Name     Sex   Age  SibSp  \\\n",
       "0                            Braund, Mr. Owen Harris    male  22.0      1   \n",
       "1  Cumings, Mrs. John Bradley (Florence Briggs Th...  female  38.0      1   \n",
       "2                             Heikkinen, Miss. Laina  female  26.0      0   \n",
       "3       Futrelle, Mrs. Jacques Heath (Lily May Peel)  female  35.0      1   \n",
       "4                           Allen, Mr. William Henry    male  35.0      0   \n",
       "\n",
       "   Parch            Ticket     Fare Cabin Embarked  \n",
       "0      0         A/5 21171   7.2500   NaN        S  \n",
       "1      0          PC 17599  71.2833   C85        C  \n",
       "2      0  STON/O2. 3101282   7.9250   NaN        S  \n",
       "3      0            113803  53.1000  C123        S  \n",
       "4      0            373450   8.0500   NaN        S  "
      ]
     },
     "execution_count": 5,
     "metadata": {},
     "output_type": "execute_result"
    }
   ],
   "source": [
    "train.head()"
   ]
  },
  {
   "cell_type": "markdown",
   "id": "21450372",
   "metadata": {},
   "source": [
    "From here, we can already see some variables that can be removed. I've decided to remove PassengerID as it is a repeat of the index but it starts at 1, and Name as someones name wouldn't determine whether they survived or not."
   ]
  },
  {
   "cell_type": "markdown",
   "id": "a00a45e7",
   "metadata": {},
   "source": [
    "**<font color=\"#D81E5B \">Variables to Remove so far</font>**:\n",
    "* PassengerId\n",
    "* Name"
   ]
  },
  {
   "cell_type": "markdown",
   "id": "99b5b983",
   "metadata": {},
   "source": [
    "### <font color=\"#F0544F\"> Visualization"
   ]
  },
  {
   "cell_type": "markdown",
   "id": "4c5d95fe",
   "metadata": {},
   "source": [
    "Looking at the dataset, I can make the assumption that Age, Pclass (1st, 2nd, and 3rd class) and sex (male, female) also played a huge role. This is because, the wealthiest are always the first to survive and women and children left the boat before women. Lets visualize this to make sure."
   ]
  },
  {
   "cell_type": "code",
   "execution_count": 6,
   "id": "f98ae8e3",
   "metadata": {},
   "outputs": [
    {
     "data": {
      "text/plain": [
       "<AxesSubplot:xlabel='Pclass', ylabel='count'>"
      ]
     },
     "execution_count": 6,
     "metadata": {},
     "output_type": "execute_result"
    },
    {
     "data": {
      "image/png": "[encoded data removed]",
      "text/plain": [
       "<Figure size 432x288 with 1 Axes>"
      ]
     },
     "metadata": {
      "needs_background": "light"
     },
     "output_type": "display_data"
    }
   ],
   "source": [
    "sns.countplot(x=train['Pclass'], hue=train['Survived'])"
   ]
  },
  {
   "cell_type": "code",
   "execution_count": 7,
   "id": "89d60ce8",
   "metadata": {},
   "outputs": [
    {
     "data": {
      "text/plain": [
       "<AxesSubplot:xlabel='Sex', ylabel='count'>"
      ]
     },
     "execution_count": 7,
     "metadata": {},
     "output_type": "execute_result"
    },
    {
     "data": {
      "image/png": "[encoded data removed]",
      "text/plain": [
       "<Figure size 432x288 with 1 Axes>"
      ]
     },
     "metadata": {
      "needs_background": "light"
     },
     "output_type": "display_data"
    }
   ],
   "source": [
    "sns.countplot(x=train['Sex'], hue=train['Survived'])"
   ]
  },
  {
   "cell_type": "code",
   "execution_count": 8,
   "id": "1c9e2f37",
   "metadata": {
    "scrolled": true
   },
   "outputs": [
    {
     "data": {
      "text/plain": [
       "<AxesSubplot:xlabel='Survived', ylabel='Age'>"
      ]
     },
     "execution_count": 8,
     "metadata": {},
     "output_type": "execute_result"
    },
    {
     "data": {
      "image/png": "[encoded data removed]",
      "text/plain": [
       "<Figure size 432x288 with 1 Axes>"
      ]
     },
     "metadata": {
      "needs_background": "light"
     },
     "output_type": "display_data"
    }
   ],
   "source": [
    "sns.lineplot(x=train['Survived'], y=train['Age'])"
   ]
  },
  {
   "cell_type": "markdown",
   "id": "fcf90090",
   "metadata": {},
   "source": [
    "These 3 are obvious cases to be in the random forest classification, but what about the rest?\n",
    "\n",
    "**<font color=\"#D81E5B \">Cabin</font>**: This variable has nearly 700 nulls, for this reason I believe it'd be better to remove this variable.<br>\n",
    "**<font color=\"#D81E5B \">SibSp</font>**: Number of siblings/spouses, I don't believe this will yield any meaningful results, but I'll visualize it anyway.<br>\n",
    "**<font color=\"#D81E5B \">parch</font>**: Similar to the previous variable, it represent # of parents/children on board. <br>\n",
    "**<font color=\"#D81E5B \">ticket number</font>**: I've decided to remove this variable as it shouldn't be any more informative than the **Pclass** variable.<br>\n",
    "**<font color=\"#D81E5B \">fare</font>**: A higher class results in a higher fare, so I believe this correlates with **Pclass** and can be removed.<br>\n",
    "**<font color=\"#D81E5B \">embarked</font>**: This variable can also be removed as the destination from where the passenger left wouldn't affect whether they survived or not.<br>"
   ]
  },
  {
   "cell_type": "code",
   "execution_count": 9,
   "id": "cb6b1e72",
   "metadata": {},
   "outputs": [
    {
     "data": {
      "text/plain": [
       "<AxesSubplot:xlabel='SibSp', ylabel='count'>"
      ]
     },
     "execution_count": 9,
     "metadata": {},
     "output_type": "execute_result"
    },
    {
     "data": {
      "image/png": "[encoded data removed]",
      "text/plain": [
       "<Figure size 432x288 with 1 Axes>"
      ]
     },
     "metadata": {
      "needs_background": "light"
     },
     "output_type": "display_data"
    }
   ],
   "source": [
    "sns.countplot(x=train['SibSp'], hue=train['Survived'])"
   ]
  },
  {
   "cell_type": "code",
   "execution_count": 10,
   "id": "6b2d6c69",
   "metadata": {},
   "outputs": [
    {
     "data": {
      "text/plain": [
       "<AxesSubplot:xlabel='Parch', ylabel='count'>"
      ]
     },
     "execution_count": 10,
     "metadata": {},
     "output_type": "execute_result"
    },
    {
     "data": {
      "image/png": "[encoded data removed]",
      "text/plain": [
       "<Figure size 432x288 with 1 Axes>"
      ]
     },
     "metadata": {
      "needs_background": "light"
     },
     "output_type": "display_data"
    }
   ],
   "source": [
    "sns.countplot(x=train['Parch'], hue=train['Survived'])"
   ]
  },
  {
   "cell_type": "markdown",
   "id": "3abf9389",
   "metadata": {},
   "source": [
    "As I suspected, it doesn't seem that the amount of relatives on board had any significant affect on whether a passenger survived or not"
   ]
  },
  {
   "cell_type": "markdown",
   "id": "0b39700f",
   "metadata": {},
   "source": [
    "**<font color=\"#D81E5B \">Variables to Remove so far</font>**:\n",
    "* PassengerId\n",
    "* Name\n",
    "* Parch\n",
    "* SibSp\n",
    "* Cabin\n",
    "* Ticket\n",
    "* Fare\n",
    "* Embarked"
   ]
  },
  {
   "cell_type": "markdown",
   "id": "5b06564e",
   "metadata": {},
   "source": [
    "### <font color=\"#F0544F\">Data Wrangling</font>\n",
    "\n",
    "After removing so many variables, we are left with **<font color=\"#D81E5B \">Age</font>**, **<font color=\"#D81E5B \">Sex</font>**, and **<font color=\"#D81E5B \">Pclass</font>**. Lets subset the train and test values to only include these 3 columns, as well as create a seperate column for the survived column."
   ]
  },
  {
   "cell_type": "code",
   "execution_count": 11,
   "id": "d0a00998",
   "metadata": {},
   "outputs": [],
   "source": [
    "new_train_x = train[['Age', 'Sex', 'Pclass']]\n",
    "new_train_y = train['Survived']\n",
    "\n",
    "new_test_x = test[['Age', 'Sex', 'Pclass']]"
   ]
  },
  {
   "cell_type": "code",
   "execution_count": 12,
   "id": "a5ccf89b",
   "metadata": {
    "scrolled": false
   },
   "outputs": [
    {
     "name": "stdout",
     "output_type": "stream",
     "text": [
      "<class 'pandas.core.frame.DataFrame'>\n",
      "RangeIndex: 891 entries, 0 to 890\n",
      "Data columns (total 3 columns):\n",
      " #   Column  Non-Null Count  Dtype  \n",
      "---  ------  --------------  -----  \n",
      " 0   Age     714 non-null    float64\n",
      " 1   Sex     891 non-null    object \n",
      " 2   Pclass  891 non-null    int64  \n",
      "dtypes: float64(1), int64(1), object(1)\n",
      "memory usage: 21.0+ KB\n"
     ]
    }
   ],
   "source": [
    "new_train_x.info()"
   ]
  },
  {
   "cell_type": "markdown",
   "id": "846c0675",
   "metadata": {},
   "source": [
    "We can see that Age has about 150 Null values, and that Sex is an object instead of a classification. First, lets fill in all the null values for Age using the mean age of each class from the entire dataset."
   ]
  },
  {
   "cell_type": "code",
   "execution_count": 13,
   "id": "030173fc",
   "metadata": {},
   "outputs": [],
   "source": [
    "age_group = new_train_x.groupby(['Pclass'])['Age']\n",
    "new_train_x['Age'] = age_group.transform(lambda x: x.fillna(x.mean()))\n",
    "\n",
    "age_group = new_test_x.groupby(['Pclass'])['Age']\n",
    "new_test_x['Age'] = age_group.transform(lambda x: x.fillna(x.mean()))"
   ]
  },
  {
   "cell_type": "code",
   "execution_count": 14,
   "id": "a484792f",
   "metadata": {
    "scrolled": false
   },
   "outputs": [
    {
     "data": {
      "text/plain": [
       "Age       0\n",
       "Sex       0\n",
       "Pclass    0\n",
       "dtype: int64"
      ]
     },
     "execution_count": 14,
     "metadata": {},
     "output_type": "execute_result"
    }
   ],
   "source": [
    "new_train_x.isnull().sum()"
   ]
  },
  {
   "cell_type": "markdown",
   "id": "d02695e3",
   "metadata": {},
   "source": [
    "Now, we want to make Sex a categorical variable, to do so we can use sklearns LabelEncoder"
   ]
  },
  {
   "cell_type": "code",
   "execution_count": 15,
   "id": "16be529f",
   "metadata": {},
   "outputs": [],
   "source": [
    "from sklearn import preprocessing\n",
    "\n",
    "le = preprocessing.LabelEncoder()\n",
    "new_train_x['Pclass'] = le.fit_transform(new_train_x['Pclass'])\n",
    "new_train_x['Sex'] = le.fit_transform(new_train_x['Sex'])\n",
    "\n",
    "new_test_x['Pclass'] = le.fit_transform(new_test_x['Pclass'])\n",
    "new_test_x['Sex'] = le.fit_transform(new_test_x['Sex'])"
   ]
  },
  {
   "cell_type": "markdown",
   "id": "29abc9b2",
   "metadata": {},
   "source": [
    "### <font color=\"#F0544F\">Final Variable Values</font>\n",
    "\n",
    "**<font color=\"#D81E5B \">Age</font>**:\n",
    "* Any integer\n",
    "\n",
    "**<font color=\"#D81E5B \">Sex</font>**:\n",
    "* 0 = Male\n",
    "* 1 = Female\n",
    "\n",
    "**<font color=\"#D81E5B \">Pclass</font>**:\n",
    "* 1 = 1st Class (best)\n",
    "* 2 = 2nd Class\n",
    "* 3 = 3rd Class (worst)"
   ]
  },
  {
   "cell_type": "markdown",
   "id": "dc62b470",
   "metadata": {},
   "source": [
    "### <font color=\"#F0544F\">Random Forest Classification"
   ]
  },
  {
   "cell_type": "markdown",
   "id": "7e1f8ff8",
   "metadata": {},
   "source": [
    "Import random forest libraries"
   ]
  },
  {
   "cell_type": "code",
   "execution_count": 16,
   "id": "61073913",
   "metadata": {},
   "outputs": [],
   "source": [
    "from sklearn.ensemble import RandomForestClassifier\n",
    "from sklearn.feature_selection import SelectFromModel"
   ]
  },
  {
   "cell_type": "markdown",
   "id": "1f22f698",
   "metadata": {},
   "source": [
    "Create random forest\n",
    "* set random_state to 0 for reproducable results\n",
    "* n_estimators to 5 because this seemed to produce maximum results for the data."
   ]
  },
  {
   "cell_type": "code",
   "execution_count": 17,
   "id": "4ccef98c",
   "metadata": {},
   "outputs": [],
   "source": [
    "randomforest = RandomForestClassifier(random_state=0, n_estimators = 5)"
   ]
  },
  {
   "cell_type": "markdown",
   "id": "5cc5e99f",
   "metadata": {},
   "source": [
    "Use the X and y values to create the randomforest"
   ]
  },
  {
   "cell_type": "code",
   "execution_count": 18,
   "id": "814a5e2e",
   "metadata": {},
   "outputs": [],
   "source": [
    "model = randomforest.fit(new_train_x, new_train_y)"
   ]
  },
  {
   "cell_type": "markdown",
   "id": "a5b7541a",
   "metadata": {},
   "source": [
    "Now we have a model made from randomforest that we can use to predict future values.\n",
    "\n",
    "First Observation: 45 Year Old Woman, 1st Class<br>\n",
    "Second Observation: 45 Year Old Man, 1st Class<br>\n",
    "<br>\n",
    "First Prediction: Surived<br>\n",
    "Second PRediction: Did not survive<br>"
   ]
  },
  {
   "cell_type": "code",
   "execution_count": 19,
   "id": "e9d11cdb",
   "metadata": {
    "scrolled": true
   },
   "outputs": [
    {
     "data": {
      "text/plain": [
       "array([1, 0], dtype=int64)"
      ]
     },
     "execution_count": 19,
     "metadata": {},
     "output_type": "execute_result"
    }
   ],
   "source": [
    "test_prediction = [[45, 0, 1], [45, 1, 1]]\n",
    "model.predict(test_prediction)"
   ]
  },
  {
   "cell_type": "markdown",
   "id": "2252af99",
   "metadata": {},
   "source": [
    "### <font color=\"#F0544F\">Feature Importance"
   ]
  },
  {
   "cell_type": "code",
   "execution_count": 20,
   "id": "c43e7735",
   "metadata": {},
   "outputs": [],
   "source": [
    "importances = model.feature_importances_"
   ]
  },
  {
   "cell_type": "code",
   "execution_count": 21,
   "id": "4c77cf94",
   "metadata": {},
   "outputs": [],
   "source": [
    "indices = np.argsort(importances)[::-1]"
   ]
  },
  {
   "cell_type": "code",
   "execution_count": 22,
   "id": "2578549c",
   "metadata": {},
   "outputs": [],
   "source": [
    "names = [new_train_x.columns[i] for i in indices] #rearrance feature names"
   ]
  },
  {
   "cell_type": "code",
   "execution_count": 23,
   "id": "3ac1ea07",
   "metadata": {
    "scrolled": false
   },
   "outputs": [
    {
     "data": {
      "image/png": "[encoded data removed]",
      "text/plain": [
       "<Figure size 432x288 with 1 Axes>"
      ]
     },
     "metadata": {
      "needs_background": "light"
     },
     "output_type": "display_data"
    }
   ],
   "source": [
    "plt.figure()\n",
    "plt.title(\"Feature Importance\")\n",
    "plt.bar(range(new_train_x.shape[1]), importances[indices])\n",
    "plt.xticks(range(new_train_x.shape[1]), names, rotation=90)\n",
    "plt.show()"
   ]
  },
  {
   "cell_type": "markdown",
   "id": "ef532f5a",
   "metadata": {},
   "source": [
    "From this plot, we can see that Sex and Age were the most important variables in determining whether a user survived or not, while PClass was only half as important as those two. However, Pclass is still an important variable as it accounts for nearly 20% of the feature importance. Because of this, I decided not to redo my random forest with a threshold, as all 3 variables already beat the threshold of 10%"
   ]
  },
  {
   "cell_type": "markdown",
   "id": "244ea419",
   "metadata": {},
   "source": [
    "### <font color=\"#F0544F\">Final Prediction and Analysis"
   ]
  },
  {
   "cell_type": "markdown",
   "id": "1641131a",
   "metadata": {},
   "source": [
    "Create predictions from test"
   ]
  },
  {
   "cell_type": "code",
   "execution_count": 24,
   "id": "46c5b81a",
   "metadata": {},
   "outputs": [],
   "source": [
    "predictions = model.predict(new_test_x)"
   ]
  },
  {
   "cell_type": "markdown",
   "id": "153f3ccb",
   "metadata": {},
   "source": [
    "Merge passenger ID with predictions, and save predictions as a new CSV"
   ]
  },
  {
   "cell_type": "code",
   "execution_count": 25,
   "id": "0c0679d3",
   "metadata": {},
   "outputs": [],
   "source": [
    "predictions = pd.DataFrame(predictions, columns=['Survived'])\n",
    "predictions = pd.concat((test.iloc[:, 0], predictions), axis = 1)\n",
    "predictions.to_csv('test_predictions.csv', sep=\",\", index = False)"
   ]
  },
  {
   "cell_type": "markdown",
   "id": "0deb0e04",
   "metadata": {},
   "source": [
    "Unfortunately, the test survival csv isn't available as this is a competition for kaggle. However, upon submitting this I found out that my prediction had a **<font color=\"#D81E5B \">0.72488</font>** accuracy. All in all, I think this is pretty good for a simple guess of whether a passenger survived or not. My reasoning is, in a practical example where someone would want to predict if they would survive or not. They would really only be able to provide their sex and age and class. I purposefully didn't add Fare because the cost of a 1st class ticket in 1912 compared to 2021 is beyond the scope of this project. However, everyone knows how much they would spend on a ticket in this day and age. Having the prices for the 1st, 2nd, and 3rd class tickets available as options with their estimated price would be a more efficient way to categorize people in 2021. This means, if someone wanted to see if they could survive on the titanic, all they would need to know is their budget and which category their budget falls into. Average prediction accuracy was about 75-80%"
   ]
  }
 ],
 "metadata": {
  "kernelspec": {
   "display_name": "Python 3",
   "language": "python",
   "name": "python3"
  },
  "language_info": {
   "codemirror_mode": {
    "name": "ipython",
    "version": 3
   },
   "file_extension": ".py",
   "mimetype": "text/x-python",
   "name": "python",
   "nbconvert_exporter": "python",
   "pygments_lexer": "ipython3",
   "version": "3.8.8"
  }
 },
 "nbformat": 4,
 "nbformat_minor": 5
}
